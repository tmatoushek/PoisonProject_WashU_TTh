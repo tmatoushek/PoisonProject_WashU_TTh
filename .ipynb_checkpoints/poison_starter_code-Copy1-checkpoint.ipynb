{
 "cells": [
  {
   "cell_type": "code",
   "execution_count": 193,
   "metadata": {},
   "outputs": [],
   "source": [
    "# Dependencies\n",
    "import matplotlib.pyplot as plt\n",
    "import numpy as np\n",
    "import pandas as pd\n",
    "from pandas import ExcelWriter\n",
    "from pandas import ExcelFile\n",
    " \n",
    "#df = pd.read_excel('File.xlsx', sheetname='Sheet1')\n",
    " \n",
    "#print(\"Column headings:\")\n",
    "#print(df.columns)"
   ]
  },
  {
   "cell_type": "code",
   "execution_count": 194,
   "metadata": {
    "scrolled": true
   },
   "outputs": [
    {
     "name": "stderr",
     "output_type": "stream",
     "text": [
      "C:\\Users\\cc\\Anaconda3\\lib\\site-packages\\pandas\\io\\excel.py:329: FutureWarning: The `sheetname` keyword is deprecated, use `sheet_name` instead\n",
      "  **kwds)\n"
     ]
    }
   ],
   "source": [
    "# Read EXCEL FILE\n",
    "ChildPoisoningsby_Age = pd.read_excel('Resources/ChildPoisoningsbyType&Age.xlsx', sheetname='rate transpose')\n",
    "#na_values = \"x\",header = [0,1], skipfooter = 0\n",
    "ChildPoisoningsby_Year = pd.read_excel('Resources/ChildPoisoningsbyType&Year.xlsx', sheetname='rate transpose')\n",
    "#na_values = \"x\",header = [0,1], skipfooter = 0\n",
    "\n",
    "#print(\"Column headings:\")\n",
    "#print(ChildPoisoningsby_Age.columns)\n",
    "#print(ChildPoisoningsby_Year.columns)\n",
    "#ChildPoisoningsby_Age = pd.read_xlsx(\"Resources/ChildPoisoningsbyType&Age.xlsx\")\n",
    "#ChildPoisoningsby_Year = pd.read_xlsx(\"Resources/ChildPoisoningsbyType_Year.xlsx\")\n",
    "\n",
    "#ChildPoisoningsby_Age "
   ]
  },
  {
   "cell_type": "code",
   "execution_count": 195,
   "metadata": {},
   "outputs": [
    {
     "data": {
      "text/html": [
       "<div>\n",
       "<style scoped>\n",
       "    .dataframe tbody tr th:only-of-type {\n",
       "        vertical-align: middle;\n",
       "    }\n",
       "\n",
       "    .dataframe tbody tr th {\n",
       "        vertical-align: top;\n",
       "    }\n",
       "\n",
       "    .dataframe thead th {\n",
       "        text-align: right;\n",
       "    }\n",
       "</style>\n",
       "<table border=\"1\" class=\"dataframe\">\n",
       "  <thead>\n",
       "    <tr style=\"text-align: right;\">\n",
       "      <th></th>\n",
       "      <th>Poison/Overdose: All Other</th>\n",
       "      <th>Poison/Overdose: Drugs/Alcohol</th>\n",
       "      <th>Poison/Overdose: Gas/Cleaners/Caustics/etc.</th>\n",
       "      <th>Total for selection</th>\n",
       "    </tr>\n",
       "  </thead>\n",
       "  <tbody>\n",
       "    <tr>\n",
       "      <th>Under 1</th>\n",
       "      <td>0</td>\n",
       "      <td>127.64</td>\n",
       "      <td>96.96</td>\n",
       "      <td>224.60</td>\n",
       "    </tr>\n",
       "    <tr>\n",
       "      <th>1 - 4</th>\n",
       "      <td>0</td>\n",
       "      <td>433.44</td>\n",
       "      <td>160.94</td>\n",
       "      <td>594.38</td>\n",
       "    </tr>\n",
       "    <tr>\n",
       "      <th>5 - 9</th>\n",
       "      <td>0</td>\n",
       "      <td>41.36</td>\n",
       "      <td>21.61</td>\n",
       "      <td>62.98</td>\n",
       "    </tr>\n",
       "    <tr>\n",
       "      <th>10 - 14</th>\n",
       "      <td>0</td>\n",
       "      <td>106.25</td>\n",
       "      <td>21.89</td>\n",
       "      <td>128.14</td>\n",
       "    </tr>\n",
       "    <tr>\n",
       "      <th>Total for selection</th>\n",
       "      <td>0</td>\n",
       "      <td>170.84</td>\n",
       "      <td>62.73</td>\n",
       "      <td>233.57</td>\n",
       "    </tr>\n",
       "  </tbody>\n",
       "</table>\n",
       "</div>"
      ],
      "text/plain": [
       "                     Poison/Overdose: All Other  \\\n",
       "Under 1                                       0   \n",
       "1 - 4                                         0   \n",
       "5 - 9                                         0   \n",
       "10 - 14                                       0   \n",
       "Total for selection                           0   \n",
       "\n",
       "                     Poison/Overdose: Drugs/Alcohol  \\\n",
       "Under 1                                      127.64   \n",
       "1 - 4                                        433.44   \n",
       "5 - 9                                         41.36   \n",
       "10 - 14                                      106.25   \n",
       "Total for selection                          170.84   \n",
       "\n",
       "                     Poison/Overdose: Gas/Cleaners/Caustics/etc.  \\\n",
       "Under 1                                                    96.96   \n",
       "1 - 4                                                     160.94   \n",
       "5 - 9                                                      21.61   \n",
       "10 - 14                                                    21.89   \n",
       "Total for selection                                        62.73   \n",
       "\n",
       "                     Total for selection  \n",
       "Under 1                           224.60  \n",
       "1 - 4                             594.38  \n",
       "5 - 9                              62.98  \n",
       "10 - 14                           128.14  \n",
       "Total for selection               233.57  "
      ]
     },
     "execution_count": 195,
     "metadata": {},
     "output_type": "execute_result"
    }
   ],
   "source": [
    "ChildPoisoningsby_Age "
   ]
  },
  {
   "cell_type": "code",
   "execution_count": 196,
   "metadata": {},
   "outputs": [
    {
     "data": {
      "text/html": [
       "<div>\n",
       "<style scoped>\n",
       "    .dataframe tbody tr th:only-of-type {\n",
       "        vertical-align: middle;\n",
       "    }\n",
       "\n",
       "    .dataframe tbody tr th {\n",
       "        vertical-align: top;\n",
       "    }\n",
       "\n",
       "    .dataframe thead th {\n",
       "        text-align: right;\n",
       "    }\n",
       "</style>\n",
       "<table border=\"1\" class=\"dataframe\">\n",
       "  <thead>\n",
       "    <tr style=\"text-align: right;\">\n",
       "      <th></th>\n",
       "      <th>Poison/Overdose: All Other</th>\n",
       "      <th>Poison/Overdose: Drugs/Alcohol</th>\n",
       "      <th>Poison/Overdose: Gas/Cleaners/Caustics/etc.</th>\n",
       "      <th>Total for selection</th>\n",
       "    </tr>\n",
       "  </thead>\n",
       "  <tbody>\n",
       "    <tr>\n",
       "      <th>2001</th>\n",
       "      <td>0</td>\n",
       "      <td>162.65</td>\n",
       "      <td>79.54</td>\n",
       "      <td>242.19</td>\n",
       "    </tr>\n",
       "    <tr>\n",
       "      <th>2002</th>\n",
       "      <td>0</td>\n",
       "      <td>173.71</td>\n",
       "      <td>77.92</td>\n",
       "      <td>251.63</td>\n",
       "    </tr>\n",
       "    <tr>\n",
       "      <th>2003</th>\n",
       "      <td>0</td>\n",
       "      <td>165.85</td>\n",
       "      <td>70.30</td>\n",
       "      <td>236.15</td>\n",
       "    </tr>\n",
       "    <tr>\n",
       "      <th>2004</th>\n",
       "      <td>0</td>\n",
       "      <td>170.96</td>\n",
       "      <td>66.47</td>\n",
       "      <td>237.43</td>\n",
       "    </tr>\n",
       "    <tr>\n",
       "      <th>2005</th>\n",
       "      <td>0</td>\n",
       "      <td>180.90</td>\n",
       "      <td>72.89</td>\n",
       "      <td>253.78</td>\n",
       "    </tr>\n",
       "    <tr>\n",
       "      <th>2006</th>\n",
       "      <td>0</td>\n",
       "      <td>176.77</td>\n",
       "      <td>69.01</td>\n",
       "      <td>245.79</td>\n",
       "    </tr>\n",
       "    <tr>\n",
       "      <th>2007</th>\n",
       "      <td>0</td>\n",
       "      <td>189.61</td>\n",
       "      <td>62.12</td>\n",
       "      <td>251.74</td>\n",
       "    </tr>\n",
       "    <tr>\n",
       "      <th>2008</th>\n",
       "      <td>0</td>\n",
       "      <td>181.71</td>\n",
       "      <td>63.75</td>\n",
       "      <td>245.46</td>\n",
       "    </tr>\n",
       "    <tr>\n",
       "      <th>2009</th>\n",
       "      <td>0</td>\n",
       "      <td>196.60</td>\n",
       "      <td>57.28</td>\n",
       "      <td>253.87</td>\n",
       "    </tr>\n",
       "    <tr>\n",
       "      <th>2010</th>\n",
       "      <td>0</td>\n",
       "      <td>184.78</td>\n",
       "      <td>59.02</td>\n",
       "      <td>243.80</td>\n",
       "    </tr>\n",
       "    <tr>\n",
       "      <th>2011</th>\n",
       "      <td>0</td>\n",
       "      <td>193.22</td>\n",
       "      <td>49.82</td>\n",
       "      <td>243.03</td>\n",
       "    </tr>\n",
       "    <tr>\n",
       "      <th>2012</th>\n",
       "      <td>0</td>\n",
       "      <td>185.00</td>\n",
       "      <td>61.49</td>\n",
       "      <td>246.49</td>\n",
       "    </tr>\n",
       "    <tr>\n",
       "      <th>2013</th>\n",
       "      <td>0</td>\n",
       "      <td>158.77</td>\n",
       "      <td>59.79</td>\n",
       "      <td>218.55</td>\n",
       "    </tr>\n",
       "    <tr>\n",
       "      <th>2014</th>\n",
       "      <td>0</td>\n",
       "      <td>139.14</td>\n",
       "      <td>50.45</td>\n",
       "      <td>189.58</td>\n",
       "    </tr>\n",
       "    <tr>\n",
       "      <th>2015</th>\n",
       "      <td>0</td>\n",
       "      <td>101.24</td>\n",
       "      <td>40.46</td>\n",
       "      <td>141.71</td>\n",
       "    </tr>\n",
       "    <tr>\n",
       "      <th>Total for selection</th>\n",
       "      <td>0</td>\n",
       "      <td>170.84</td>\n",
       "      <td>62.73</td>\n",
       "      <td>233.57</td>\n",
       "    </tr>\n",
       "  </tbody>\n",
       "</table>\n",
       "</div>"
      ],
      "text/plain": [
       "                     Poison/Overdose: All Other  \\\n",
       "2001                                          0   \n",
       "2002                                          0   \n",
       "2003                                          0   \n",
       "2004                                          0   \n",
       "2005                                          0   \n",
       "2006                                          0   \n",
       "2007                                          0   \n",
       "2008                                          0   \n",
       "2009                                          0   \n",
       "2010                                          0   \n",
       "2011                                          0   \n",
       "2012                                          0   \n",
       "2013                                          0   \n",
       "2014                                          0   \n",
       "2015                                          0   \n",
       "Total for selection                           0   \n",
       "\n",
       "                     Poison/Overdose: Drugs/Alcohol  \\\n",
       "2001                                         162.65   \n",
       "2002                                         173.71   \n",
       "2003                                         165.85   \n",
       "2004                                         170.96   \n",
       "2005                                         180.90   \n",
       "2006                                         176.77   \n",
       "2007                                         189.61   \n",
       "2008                                         181.71   \n",
       "2009                                         196.60   \n",
       "2010                                         184.78   \n",
       "2011                                         193.22   \n",
       "2012                                         185.00   \n",
       "2013                                         158.77   \n",
       "2014                                         139.14   \n",
       "2015                                         101.24   \n",
       "Total for selection                          170.84   \n",
       "\n",
       "                     Poison/Overdose: Gas/Cleaners/Caustics/etc.  \\\n",
       "2001                                                       79.54   \n",
       "2002                                                       77.92   \n",
       "2003                                                       70.30   \n",
       "2004                                                       66.47   \n",
       "2005                                                       72.89   \n",
       "2006                                                       69.01   \n",
       "2007                                                       62.12   \n",
       "2008                                                       63.75   \n",
       "2009                                                       57.28   \n",
       "2010                                                       59.02   \n",
       "2011                                                       49.82   \n",
       "2012                                                       61.49   \n",
       "2013                                                       59.79   \n",
       "2014                                                       50.45   \n",
       "2015                                                       40.46   \n",
       "Total for selection                                        62.73   \n",
       "\n",
       "                     Total for selection  \n",
       "2001                              242.19  \n",
       "2002                              251.63  \n",
       "2003                              236.15  \n",
       "2004                              237.43  \n",
       "2005                              253.78  \n",
       "2006                              245.79  \n",
       "2007                              251.74  \n",
       "2008                              245.46  \n",
       "2009                              253.87  \n",
       "2010                              243.80  \n",
       "2011                              243.03  \n",
       "2012                              246.49  \n",
       "2013                              218.55  \n",
       "2014                              189.58  \n",
       "2015                              141.71  \n",
       "Total for selection               233.57  "
      ]
     },
     "execution_count": 196,
     "metadata": {},
     "output_type": "execute_result"
    }
   ],
   "source": [
    "ChildPoisoningsby_Year"
   ]
  },
  {
   "cell_type": "code",
   "execution_count": 198,
   "metadata": {},
   "outputs": [],
   "source": [
    "#ChildPoisoningsby_Agedrop = ChildPoisoningsby_Age.dropna()\n",
    "#ChildPoisoningsby_Age.drop(['Rate:', 'Source:', 'Generated On:'])\n",
    "                        "
   ]
  },
  {
   "cell_type": "code",
   "execution_count": 199,
   "metadata": {},
   "outputs": [
    {
     "data": {
      "text/html": [
       "<div>\n",
       "<style scoped>\n",
       "    .dataframe tbody tr th:only-of-type {\n",
       "        vertical-align: middle;\n",
       "    }\n",
       "\n",
       "    .dataframe tbody tr th {\n",
       "        vertical-align: top;\n",
       "    }\n",
       "\n",
       "    .dataframe thead th {\n",
       "        text-align: right;\n",
       "    }\n",
       "</style>\n",
       "<table border=\"1\" class=\"dataframe\">\n",
       "  <thead>\n",
       "    <tr style=\"text-align: right;\">\n",
       "      <th></th>\n",
       "      <th>Poison/Overdose: All Other</th>\n",
       "      <th>Poison/Overdose: Drugs/Alcohol</th>\n",
       "      <th>Poison/Overdose: Gas/Cleaners/Caustics/etc.</th>\n",
       "      <th>Total for selection</th>\n",
       "    </tr>\n",
       "  </thead>\n",
       "  <tbody>\n",
       "    <tr>\n",
       "      <th>Under 1</th>\n",
       "      <td>0</td>\n",
       "      <td>127.64</td>\n",
       "      <td>96.96</td>\n",
       "      <td>224.60</td>\n",
       "    </tr>\n",
       "    <tr>\n",
       "      <th>1 - 4</th>\n",
       "      <td>0</td>\n",
       "      <td>433.44</td>\n",
       "      <td>160.94</td>\n",
       "      <td>594.38</td>\n",
       "    </tr>\n",
       "    <tr>\n",
       "      <th>5 - 9</th>\n",
       "      <td>0</td>\n",
       "      <td>41.36</td>\n",
       "      <td>21.61</td>\n",
       "      <td>62.98</td>\n",
       "    </tr>\n",
       "    <tr>\n",
       "      <th>10 - 14</th>\n",
       "      <td>0</td>\n",
       "      <td>106.25</td>\n",
       "      <td>21.89</td>\n",
       "      <td>128.14</td>\n",
       "    </tr>\n",
       "    <tr>\n",
       "      <th>Total for selection</th>\n",
       "      <td>0</td>\n",
       "      <td>170.84</td>\n",
       "      <td>62.73</td>\n",
       "      <td>233.57</td>\n",
       "    </tr>\n",
       "  </tbody>\n",
       "</table>\n",
       "</div>"
      ],
      "text/plain": [
       "                     Poison/Overdose: All Other  \\\n",
       "Under 1                                       0   \n",
       "1 - 4                                         0   \n",
       "5 - 9                                         0   \n",
       "10 - 14                                       0   \n",
       "Total for selection                           0   \n",
       "\n",
       "                     Poison/Overdose: Drugs/Alcohol  \\\n",
       "Under 1                                      127.64   \n",
       "1 - 4                                        433.44   \n",
       "5 - 9                                         41.36   \n",
       "10 - 14                                      106.25   \n",
       "Total for selection                          170.84   \n",
       "\n",
       "                     Poison/Overdose: Gas/Cleaners/Caustics/etc.  \\\n",
       "Under 1                                                    96.96   \n",
       "1 - 4                                                     160.94   \n",
       "5 - 9                                                      21.61   \n",
       "10 - 14                                                    21.89   \n",
       "Total for selection                                        62.73   \n",
       "\n",
       "                     Total for selection  \n",
       "Under 1                           224.60  \n",
       "1 - 4                             594.38  \n",
       "5 - 9                              62.98  \n",
       "10 - 14                           128.14  \n",
       "Total for selection               233.57  "
      ]
     },
     "execution_count": 199,
     "metadata": {},
     "output_type": "execute_result"
    }
   ],
   "source": [
    "ChildPoisoningsby_Age.dropna()"
   ]
  },
  {
   "cell_type": "code",
   "execution_count": 200,
   "metadata": {},
   "outputs": [
    {
     "data": {
      "text/html": [
       "<div>\n",
       "<style scoped>\n",
       "    .dataframe tbody tr th:only-of-type {\n",
       "        vertical-align: middle;\n",
       "    }\n",
       "\n",
       "    .dataframe tbody tr th {\n",
       "        vertical-align: top;\n",
       "    }\n",
       "\n",
       "    .dataframe thead th {\n",
       "        text-align: right;\n",
       "    }\n",
       "</style>\n",
       "<table border=\"1\" class=\"dataframe\">\n",
       "  <thead>\n",
       "    <tr style=\"text-align: right;\">\n",
       "      <th></th>\n",
       "      <th>Poison/Overdose: All Other</th>\n",
       "      <th>Poison/Overdose: Drugs/Alcohol</th>\n",
       "      <th>Poison/Overdose: Gas/Cleaners/Caustics/etc.</th>\n",
       "      <th>Total for selection</th>\n",
       "    </tr>\n",
       "  </thead>\n",
       "  <tbody>\n",
       "    <tr>\n",
       "      <th>2001</th>\n",
       "      <td>0</td>\n",
       "      <td>162.65</td>\n",
       "      <td>79.54</td>\n",
       "      <td>242.19</td>\n",
       "    </tr>\n",
       "    <tr>\n",
       "      <th>2002</th>\n",
       "      <td>0</td>\n",
       "      <td>173.71</td>\n",
       "      <td>77.92</td>\n",
       "      <td>251.63</td>\n",
       "    </tr>\n",
       "    <tr>\n",
       "      <th>2003</th>\n",
       "      <td>0</td>\n",
       "      <td>165.85</td>\n",
       "      <td>70.30</td>\n",
       "      <td>236.15</td>\n",
       "    </tr>\n",
       "    <tr>\n",
       "      <th>2004</th>\n",
       "      <td>0</td>\n",
       "      <td>170.96</td>\n",
       "      <td>66.47</td>\n",
       "      <td>237.43</td>\n",
       "    </tr>\n",
       "    <tr>\n",
       "      <th>2005</th>\n",
       "      <td>0</td>\n",
       "      <td>180.90</td>\n",
       "      <td>72.89</td>\n",
       "      <td>253.78</td>\n",
       "    </tr>\n",
       "    <tr>\n",
       "      <th>2006</th>\n",
       "      <td>0</td>\n",
       "      <td>176.77</td>\n",
       "      <td>69.01</td>\n",
       "      <td>245.79</td>\n",
       "    </tr>\n",
       "    <tr>\n",
       "      <th>2007</th>\n",
       "      <td>0</td>\n",
       "      <td>189.61</td>\n",
       "      <td>62.12</td>\n",
       "      <td>251.74</td>\n",
       "    </tr>\n",
       "    <tr>\n",
       "      <th>2008</th>\n",
       "      <td>0</td>\n",
       "      <td>181.71</td>\n",
       "      <td>63.75</td>\n",
       "      <td>245.46</td>\n",
       "    </tr>\n",
       "    <tr>\n",
       "      <th>2009</th>\n",
       "      <td>0</td>\n",
       "      <td>196.60</td>\n",
       "      <td>57.28</td>\n",
       "      <td>253.87</td>\n",
       "    </tr>\n",
       "    <tr>\n",
       "      <th>2010</th>\n",
       "      <td>0</td>\n",
       "      <td>184.78</td>\n",
       "      <td>59.02</td>\n",
       "      <td>243.80</td>\n",
       "    </tr>\n",
       "    <tr>\n",
       "      <th>2011</th>\n",
       "      <td>0</td>\n",
       "      <td>193.22</td>\n",
       "      <td>49.82</td>\n",
       "      <td>243.03</td>\n",
       "    </tr>\n",
       "    <tr>\n",
       "      <th>2012</th>\n",
       "      <td>0</td>\n",
       "      <td>185.00</td>\n",
       "      <td>61.49</td>\n",
       "      <td>246.49</td>\n",
       "    </tr>\n",
       "    <tr>\n",
       "      <th>2013</th>\n",
       "      <td>0</td>\n",
       "      <td>158.77</td>\n",
       "      <td>59.79</td>\n",
       "      <td>218.55</td>\n",
       "    </tr>\n",
       "    <tr>\n",
       "      <th>2014</th>\n",
       "      <td>0</td>\n",
       "      <td>139.14</td>\n",
       "      <td>50.45</td>\n",
       "      <td>189.58</td>\n",
       "    </tr>\n",
       "    <tr>\n",
       "      <th>2015</th>\n",
       "      <td>0</td>\n",
       "      <td>101.24</td>\n",
       "      <td>40.46</td>\n",
       "      <td>141.71</td>\n",
       "    </tr>\n",
       "    <tr>\n",
       "      <th>Total for selection</th>\n",
       "      <td>0</td>\n",
       "      <td>170.84</td>\n",
       "      <td>62.73</td>\n",
       "      <td>233.57</td>\n",
       "    </tr>\n",
       "  </tbody>\n",
       "</table>\n",
       "</div>"
      ],
      "text/plain": [
       "                     Poison/Overdose: All Other  \\\n",
       "2001                                          0   \n",
       "2002                                          0   \n",
       "2003                                          0   \n",
       "2004                                          0   \n",
       "2005                                          0   \n",
       "2006                                          0   \n",
       "2007                                          0   \n",
       "2008                                          0   \n",
       "2009                                          0   \n",
       "2010                                          0   \n",
       "2011                                          0   \n",
       "2012                                          0   \n",
       "2013                                          0   \n",
       "2014                                          0   \n",
       "2015                                          0   \n",
       "Total for selection                           0   \n",
       "\n",
       "                     Poison/Overdose: Drugs/Alcohol  \\\n",
       "2001                                         162.65   \n",
       "2002                                         173.71   \n",
       "2003                                         165.85   \n",
       "2004                                         170.96   \n",
       "2005                                         180.90   \n",
       "2006                                         176.77   \n",
       "2007                                         189.61   \n",
       "2008                                         181.71   \n",
       "2009                                         196.60   \n",
       "2010                                         184.78   \n",
       "2011                                         193.22   \n",
       "2012                                         185.00   \n",
       "2013                                         158.77   \n",
       "2014                                         139.14   \n",
       "2015                                         101.24   \n",
       "Total for selection                          170.84   \n",
       "\n",
       "                     Poison/Overdose: Gas/Cleaners/Caustics/etc.  \\\n",
       "2001                                                       79.54   \n",
       "2002                                                       77.92   \n",
       "2003                                                       70.30   \n",
       "2004                                                       66.47   \n",
       "2005                                                       72.89   \n",
       "2006                                                       69.01   \n",
       "2007                                                       62.12   \n",
       "2008                                                       63.75   \n",
       "2009                                                       57.28   \n",
       "2010                                                       59.02   \n",
       "2011                                                       49.82   \n",
       "2012                                                       61.49   \n",
       "2013                                                       59.79   \n",
       "2014                                                       50.45   \n",
       "2015                                                       40.46   \n",
       "Total for selection                                        62.73   \n",
       "\n",
       "                     Total for selection  \n",
       "2001                              242.19  \n",
       "2002                              251.63  \n",
       "2003                              236.15  \n",
       "2004                              237.43  \n",
       "2005                              253.78  \n",
       "2006                              245.79  \n",
       "2007                              251.74  \n",
       "2008                              245.46  \n",
       "2009                              253.87  \n",
       "2010                              243.80  \n",
       "2011                              243.03  \n",
       "2012                              246.49  \n",
       "2013                              218.55  \n",
       "2014                              189.58  \n",
       "2015                              141.71  \n",
       "Total for selection               233.57  "
      ]
     },
     "execution_count": 200,
     "metadata": {},
     "output_type": "execute_result"
    }
   ],
   "source": [
    "ChildPoisoningsby_Year.dropna()"
   ]
  },
  {
   "cell_type": "code",
   "execution_count": 202,
   "metadata": {},
   "outputs": [
    {
     "data": {
      "text/plain": [
       "<matplotlib.axes._subplots.AxesSubplot at 0x18339064470>"
      ]
     },
     "execution_count": 202,
     "metadata": {},
     "output_type": "execute_result"
    },
    {
     "data": {
      "image/png": "[encoded data removed]",
      "text/plain": [
       "<Figure size 432x288 with 1 Axes>"
      ]
     },
     "metadata": {},
     "output_type": "display_data"
    }
   ],
   "source": [
    "ChildPoisoningsby_Age.plot()"
   ]
  },
  {
   "cell_type": "code",
   "execution_count": null,
   "metadata": {},
   "outputs": [],
   "source": [
    "ChildPoisoningsby_Year.plot()"
   ]
  },
  {
   "cell_type": "code",
   "execution_count": 192,
   "metadata": {},
   "outputs": [
    {
     "ename": "ValueError",
     "evalue": "Unrecognized character 5 in format string",
     "output_type": "error",
     "traceback": [
      "\u001b[1;31m---------------------------------------------------------------------------\u001b[0m",
      "\u001b[1;31mValueError\u001b[0m                                Traceback (most recent call last)",
      "\u001b[1;32m<ipython-input-192-a41d2ff151cf>\u001b[0m in \u001b[0;36m<module>\u001b[1;34m()\u001b[0m\n\u001b[0;32m      3\u001b[0m \u001b[0mplt\u001b[0m\u001b[1;33m.\u001b[0m\u001b[0mplot\u001b[0m\u001b[1;33m(\u001b[0m\u001b[1;33m[\u001b[0m\u001b[1;36m1\u001b[0m\u001b[1;33m,\u001b[0m\u001b[1;36m2\u001b[0m\u001b[1;33m,\u001b[0m\u001b[1;36m3\u001b[0m\u001b[1;33m,\u001b[0m\u001b[1;36m4\u001b[0m\u001b[1;33m]\u001b[0m\u001b[1;33m,\u001b[0m \u001b[1;33m[\u001b[0m\u001b[1;36m1\u001b[0m\u001b[1;33m,\u001b[0m\u001b[1;36m4\u001b[0m\u001b[1;33m,\u001b[0m\u001b[1;36m9\u001b[0m\u001b[1;33m,\u001b[0m\u001b[1;36m16\u001b[0m\u001b[1;33m]\u001b[0m\u001b[1;33m,\u001b[0m \u001b[1;34m'ro'\u001b[0m\u001b[1;33m)\u001b[0m\u001b[1;33m\u001b[0m\u001b[0m\n\u001b[0;32m      4\u001b[0m \u001b[0mplt\u001b[0m\u001b[1;33m.\u001b[0m\u001b[0mlegend\u001b[0m\u001b[1;33m(\u001b[0m\u001b[1;33m[\u001b[0m\u001b[1;34m'Poison/Overdose: All Other'\u001b[0m\u001b[1;33m,\u001b[0m \u001b[1;34m'Poison/Overdose: Drugs/Alcohol'\u001b[0m\u001b[1;33m,\u001b[0m \u001b[1;34m'Poison/Overdose: Gas/Cleaners/Caustics/etc.'\u001b[0m\u001b[1;33m,\u001b[0m \u001b[1;34m'Total for selection'\u001b[0m\u001b[1;33m]\u001b[0m\u001b[1;33m)\u001b[0m\u001b[1;33m\u001b[0m\u001b[0m\n\u001b[1;32m----> 5\u001b[1;33m \u001b[0mplt\u001b[0m\u001b[1;33m.\u001b[0m\u001b[0mplot\u001b[0m\u001b[1;33m(\u001b[0m\u001b[1;34m'Under 1'\u001b[0m\u001b[1;33m,\u001b[0m\u001b[1;34m'1 - 4'\u001b[0m\u001b[1;33m,\u001b[0m\u001b[1;34m'5 - 9'\u001b[0m\u001b[1;33m,\u001b[0m\u001b[1;34m'10 - 14'\u001b[0m\u001b[1;33m,\u001b[0m\u001b[1;34m'Total for selection'\u001b[0m\u001b[1;33m)\u001b[0m\u001b[1;33m\u001b[0m\u001b[0m\n\u001b[0m\u001b[0;32m      6\u001b[0m \u001b[1;31m#plt.xlabel('Time (hr)')\u001b[0m\u001b[1;33m\u001b[0m\u001b[1;33m\u001b[0m\u001b[0m\n\u001b[0;32m      7\u001b[0m \u001b[1;31m#plt.ylabel('Position (km)')\u001b[0m\u001b[1;33m\u001b[0m\u001b[1;33m\u001b[0m\u001b[0m\n",
      "\u001b[1;32m~\\Anaconda3\\lib\\site-packages\\matplotlib\\pyplot.py\u001b[0m in \u001b[0;36mplot\u001b[1;34m(*args, **kwargs)\u001b[0m\n\u001b[0;32m   3356\u001b[0m                       mplDeprecation)\n\u001b[0;32m   3357\u001b[0m     \u001b[1;32mtry\u001b[0m\u001b[1;33m:\u001b[0m\u001b[1;33m\u001b[0m\u001b[0m\n\u001b[1;32m-> 3358\u001b[1;33m         \u001b[0mret\u001b[0m \u001b[1;33m=\u001b[0m \u001b[0max\u001b[0m\u001b[1;33m.\u001b[0m\u001b[0mplot\u001b[0m\u001b[1;33m(\u001b[0m\u001b[1;33m*\u001b[0m\u001b[0margs\u001b[0m\u001b[1;33m,\u001b[0m \u001b[1;33m**\u001b[0m\u001b[0mkwargs\u001b[0m\u001b[1;33m)\u001b[0m\u001b[1;33m\u001b[0m\u001b[0m\n\u001b[0m\u001b[0;32m   3359\u001b[0m     \u001b[1;32mfinally\u001b[0m\u001b[1;33m:\u001b[0m\u001b[1;33m\u001b[0m\u001b[0m\n\u001b[0;32m   3360\u001b[0m         \u001b[0max\u001b[0m\u001b[1;33m.\u001b[0m\u001b[0m_hold\u001b[0m \u001b[1;33m=\u001b[0m \u001b[0mwashold\u001b[0m\u001b[1;33m\u001b[0m\u001b[0m\n",
      "\u001b[1;32m~\\Anaconda3\\lib\\site-packages\\matplotlib\\__init__.py\u001b[0m in \u001b[0;36minner\u001b[1;34m(ax, *args, **kwargs)\u001b[0m\n\u001b[0;32m   1853\u001b[0m                         \u001b[1;34m\"the Matplotlib list!)\"\u001b[0m \u001b[1;33m%\u001b[0m \u001b[1;33m(\u001b[0m\u001b[0mlabel_namer\u001b[0m\u001b[1;33m,\u001b[0m \u001b[0mfunc\u001b[0m\u001b[1;33m.\u001b[0m\u001b[0m__name__\u001b[0m\u001b[1;33m)\u001b[0m\u001b[1;33m,\u001b[0m\u001b[1;33m\u001b[0m\u001b[0m\n\u001b[0;32m   1854\u001b[0m                         RuntimeWarning, stacklevel=2)\n\u001b[1;32m-> 1855\u001b[1;33m             \u001b[1;32mreturn\u001b[0m \u001b[0mfunc\u001b[0m\u001b[1;33m(\u001b[0m\u001b[0max\u001b[0m\u001b[1;33m,\u001b[0m \u001b[1;33m*\u001b[0m\u001b[0margs\u001b[0m\u001b[1;33m,\u001b[0m \u001b[1;33m**\u001b[0m\u001b[0mkwargs\u001b[0m\u001b[1;33m)\u001b[0m\u001b[1;33m\u001b[0m\u001b[0m\n\u001b[0m\u001b[0;32m   1856\u001b[0m \u001b[1;33m\u001b[0m\u001b[0m\n\u001b[0;32m   1857\u001b[0m         inner.__doc__ = _add_data_doc(inner.__doc__,\n",
      "\u001b[1;32m~\\Anaconda3\\lib\\site-packages\\matplotlib\\axes\\_axes.py\u001b[0m in \u001b[0;36mplot\u001b[1;34m(self, *args, **kwargs)\u001b[0m\n\u001b[0;32m   1525\u001b[0m         \u001b[0mkwargs\u001b[0m \u001b[1;33m=\u001b[0m \u001b[0mcbook\u001b[0m\u001b[1;33m.\u001b[0m\u001b[0mnormalize_kwargs\u001b[0m\u001b[1;33m(\u001b[0m\u001b[0mkwargs\u001b[0m\u001b[1;33m,\u001b[0m \u001b[0m_alias_map\u001b[0m\u001b[1;33m)\u001b[0m\u001b[1;33m\u001b[0m\u001b[0m\n\u001b[0;32m   1526\u001b[0m \u001b[1;33m\u001b[0m\u001b[0m\n\u001b[1;32m-> 1527\u001b[1;33m         \u001b[1;32mfor\u001b[0m \u001b[0mline\u001b[0m \u001b[1;32min\u001b[0m \u001b[0mself\u001b[0m\u001b[1;33m.\u001b[0m\u001b[0m_get_lines\u001b[0m\u001b[1;33m(\u001b[0m\u001b[1;33m*\u001b[0m\u001b[0margs\u001b[0m\u001b[1;33m,\u001b[0m \u001b[1;33m**\u001b[0m\u001b[0mkwargs\u001b[0m\u001b[1;33m)\u001b[0m\u001b[1;33m:\u001b[0m\u001b[1;33m\u001b[0m\u001b[0m\n\u001b[0m\u001b[0;32m   1528\u001b[0m             \u001b[0mself\u001b[0m\u001b[1;33m.\u001b[0m\u001b[0madd_line\u001b[0m\u001b[1;33m(\u001b[0m\u001b[0mline\u001b[0m\u001b[1;33m)\u001b[0m\u001b[1;33m\u001b[0m\u001b[0m\n\u001b[0;32m   1529\u001b[0m             \u001b[0mlines\u001b[0m\u001b[1;33m.\u001b[0m\u001b[0mappend\u001b[0m\u001b[1;33m(\u001b[0m\u001b[0mline\u001b[0m\u001b[1;33m)\u001b[0m\u001b[1;33m\u001b[0m\u001b[0m\n",
      "\u001b[1;32m~\\Anaconda3\\lib\\site-packages\\matplotlib\\axes\\_base.py\u001b[0m in \u001b[0;36m_grab_next_args\u001b[1;34m(self, *args, **kwargs)\u001b[0m\n\u001b[0;32m    404\u001b[0m                 \u001b[0mthis\u001b[0m \u001b[1;33m+=\u001b[0m \u001b[0margs\u001b[0m\u001b[1;33m[\u001b[0m\u001b[1;36m0\u001b[0m\u001b[1;33m]\u001b[0m\u001b[1;33m,\u001b[0m\u001b[1;33m\u001b[0m\u001b[0m\n\u001b[0;32m    405\u001b[0m                 \u001b[0margs\u001b[0m \u001b[1;33m=\u001b[0m \u001b[0margs\u001b[0m\u001b[1;33m[\u001b[0m\u001b[1;36m1\u001b[0m\u001b[1;33m:\u001b[0m\u001b[1;33m]\u001b[0m\u001b[1;33m\u001b[0m\u001b[0m\n\u001b[1;32m--> 406\u001b[1;33m             \u001b[1;32mfor\u001b[0m \u001b[0mseg\u001b[0m \u001b[1;32min\u001b[0m \u001b[0mself\u001b[0m\u001b[1;33m.\u001b[0m\u001b[0m_plot_args\u001b[0m\u001b[1;33m(\u001b[0m\u001b[0mthis\u001b[0m\u001b[1;33m,\u001b[0m \u001b[0mkwargs\u001b[0m\u001b[1;33m)\u001b[0m\u001b[1;33m:\u001b[0m\u001b[1;33m\u001b[0m\u001b[0m\n\u001b[0m\u001b[0;32m    407\u001b[0m                 \u001b[1;32myield\u001b[0m \u001b[0mseg\u001b[0m\u001b[1;33m\u001b[0m\u001b[0m\n\u001b[0;32m    408\u001b[0m \u001b[1;33m\u001b[0m\u001b[0m\n",
      "\u001b[1;32m~\\Anaconda3\\lib\\site-packages\\matplotlib\\axes\\_base.py\u001b[0m in \u001b[0;36m_plot_args\u001b[1;34m(self, tup, kwargs)\u001b[0m\n\u001b[0;32m    353\u001b[0m         \u001b[0mret\u001b[0m \u001b[1;33m=\u001b[0m \u001b[1;33m[\u001b[0m\u001b[1;33m]\u001b[0m\u001b[1;33m\u001b[0m\u001b[0m\n\u001b[0;32m    354\u001b[0m         \u001b[1;32mif\u001b[0m \u001b[0mlen\u001b[0m\u001b[1;33m(\u001b[0m\u001b[0mtup\u001b[0m\u001b[1;33m)\u001b[0m \u001b[1;33m>\u001b[0m \u001b[1;36m1\u001b[0m \u001b[1;32mand\u001b[0m \u001b[0misinstance\u001b[0m\u001b[1;33m(\u001b[0m\u001b[0mtup\u001b[0m\u001b[1;33m[\u001b[0m\u001b[1;33m-\u001b[0m\u001b[1;36m1\u001b[0m\u001b[1;33m]\u001b[0m\u001b[1;33m,\u001b[0m \u001b[0msix\u001b[0m\u001b[1;33m.\u001b[0m\u001b[0mstring_types\u001b[0m\u001b[1;33m)\u001b[0m\u001b[1;33m:\u001b[0m\u001b[1;33m\u001b[0m\u001b[0m\n\u001b[1;32m--> 355\u001b[1;33m             \u001b[0mlinestyle\u001b[0m\u001b[1;33m,\u001b[0m \u001b[0mmarker\u001b[0m\u001b[1;33m,\u001b[0m \u001b[0mcolor\u001b[0m \u001b[1;33m=\u001b[0m \u001b[0m_process_plot_format\u001b[0m\u001b[1;33m(\u001b[0m\u001b[0mtup\u001b[0m\u001b[1;33m[\u001b[0m\u001b[1;33m-\u001b[0m\u001b[1;36m1\u001b[0m\u001b[1;33m]\u001b[0m\u001b[1;33m)\u001b[0m\u001b[1;33m\u001b[0m\u001b[0m\n\u001b[0m\u001b[0;32m    356\u001b[0m             \u001b[0mtup\u001b[0m \u001b[1;33m=\u001b[0m \u001b[0mtup\u001b[0m\u001b[1;33m[\u001b[0m\u001b[1;33m:\u001b[0m\u001b[1;33m-\u001b[0m\u001b[1;36m1\u001b[0m\u001b[1;33m]\u001b[0m\u001b[1;33m\u001b[0m\u001b[0m\n\u001b[0;32m    357\u001b[0m         \u001b[1;32melif\u001b[0m \u001b[0mlen\u001b[0m\u001b[1;33m(\u001b[0m\u001b[0mtup\u001b[0m\u001b[1;33m)\u001b[0m \u001b[1;33m==\u001b[0m \u001b[1;36m3\u001b[0m\u001b[1;33m:\u001b[0m\u001b[1;33m\u001b[0m\u001b[0m\n",
      "\u001b[1;32m~\\Anaconda3\\lib\\site-packages\\matplotlib\\axes\\_base.py\u001b[0m in \u001b[0;36m_process_plot_format\u001b[1;34m(fmt)\u001b[0m\n\u001b[0;32m    128\u001b[0m         \u001b[1;32melse\u001b[0m\u001b[1;33m:\u001b[0m\u001b[1;33m\u001b[0m\u001b[0m\n\u001b[0;32m    129\u001b[0m             raise ValueError(\n\u001b[1;32m--> 130\u001b[1;33m                 'Unrecognized character %c in format string' % c)\n\u001b[0m\u001b[0;32m    131\u001b[0m         \u001b[0mi\u001b[0m \u001b[1;33m+=\u001b[0m \u001b[1;36m1\u001b[0m\u001b[1;33m\u001b[0m\u001b[0m\n\u001b[0;32m    132\u001b[0m \u001b[1;33m\u001b[0m\u001b[0m\n",
      "\u001b[1;31mValueError\u001b[0m: Unrecognized character 5 in format string"
     ]
    },
    {
     "data": {
      "image/png": "[encoded data removed]",
      "text/plain": [
       "<Figure size 432x288 with 1 Axes>"
      ]
     },
     "metadata": {},
     "output_type": "display_data"
    }
   ],
   "source": [
    "#ChildPoisoningsby_Age.plot()\n",
    "import matplotlib.pyplot as plt\n",
    "plt.plot([1,2,3,4], [1,4,9,16], 'ro')\n",
    "plt.legend(['Poison/Overdose: All Other', 'Poison/Overdose: Drugs/Alcohol', 'Poison/Overdose: Gas/Cleaners/Caustics/etc.', 'Total for selection'])\n",
    "plt.plot('Under 1','1 - 4','5 - 9','10 - 14','Total for selection')\n",
    "#plt.xlabel('Time (hr)')\n",
    "#plt.ylabel('Position (km)')\n",
    "#plt.ylabel('Age vs RATE')\n",
    "plt.axis()\n",
    "plt.show()"
   ]
  },
  {
   "cell_type": "code",
   "execution_count": 189,
   "metadata": {},
   "outputs": [
    {
     "data": {
      "text/plain": [
       "<matplotlib.axes._subplots.AxesSubplot at 0x18337eed780>"
      ]
     },
     "execution_count": 189,
     "metadata": {},
     "output_type": "execute_result"
    },
    {
     "data": {
      "image/png": "[encoded data removed]",
      "text/plain": [
       "<Figure size 432x288 with 1 Axes>"
      ]
     },
     "metadata": {},
     "output_type": "display_data"
    }
   ],
   "source": [
    "ChildPoisoningsby_Year.plot()\n",
    "\n",
    "# Select three worth of data.\n",
    "#gdp_australia = data.loc['Australia']\n",
    "#gdp_nz = data.loc['New Zealand']\n",
    "#gdp_nz = data.loc['New Zealand']\n",
    "\n",
    "# Plot with differently-colored markers.\n",
    "#plt.plot(years, gdp_australia, 'b-', label='Australia')\n",
    "#plt.plot(years, gdp_nz, 'g-', label='New Zealand')\n",
    "\n",
    "# Create legend.\n",
    "#plt.legend(loc='upper left')\n",
    "#plt.xlabel('Year')\n",
    "#plt.ylabel('GDP per capita ($)')\n",
    "#plt.xlabel()\n",
    "# fix data types for your columns\n",
    "#ChildPoisoningsby_Year.columns.set_levels(ChildPoisoningsby_Year.columns.levels[0].astype(str), level=0, inplace = True)\n",
    "# Stack your data\n",
    "#ChildPoisoningsby_Year.stack(level=0)\n",
    "# add age columns\n",
    "# concat tables together to get master file\n",
    "# save master file"
   ]
  },
  {
   "cell_type": "code",
   "execution_count": 168,
   "metadata": {},
   "outputs": [],
   "source": [
    "# fig = plt.figure(figsize=(12,5))\n",
    "# ax = plt.subplot()\n",
    "#ChildPoisoningsby_Year.plot()\n",
    "#legend.plot(\"Rate\")\n",
    "#plot.title(\"ER Poisoning Rates per Age Group\")\n",
    "#plot.legend(loc='best')\n",
    "#plot.ylabel('Rate/100000')\n",
    "#xlabel = \"Rate\"\n",
    "#ylabel = \"Year:\"\n",
    "# ax.plt(ChildPoisoningsby_Agedrop)\n",
    "# ax.plt(ChildPoisoningsby_Agedrop[\"Rate\"])\n",
    "# ax.grid(True)\n",
    "# plt.show()\n",
    "#ChildPoisoningsby_Year = ChildPoisoningsby_Year.pivot_table((index = \"Year\", columns = \"Statistics\", values = \"Rate\")\n",
    "#ChildPoisoningsby_Year.plot()\n",
    "#plot.legend(loc=\"best\")\n",
    "#plot.ylabel(\"Rate/100000\")\n",
    "#ChildPoisoningsby_Year.T.plot()\n",
    "#plt.ylabel('Year:')"
   ]
  },
  {
   "cell_type": "code",
   "execution_count": null,
   "metadata": {},
   "outputs": [],
   "source": []
  },
  {
   "cell_type": "code",
   "execution_count": null,
   "metadata": {},
   "outputs": [],
   "source": []
  },
  {
   "cell_type": "code",
   "execution_count": 49,
   "metadata": {},
   "outputs": [],
   "source": [
    "# Changed Row 1 to header for ChildPoisoningsby_Year\n",
    "# FinalYeardf = ChildPoisoningsby_Yeardrop.rename(columns=ChildPoisoningsby_Yeardrop.iloc[0]).drop(ChildPoisoningsby_Yeardrop.index[0])"
   ]
  },
  {
   "cell_type": "code",
   "execution_count": 51,
   "metadata": {},
   "outputs": [
    {
     "ename": "IndexError",
     "evalue": "index 0 is out of bounds for axis 0 with size 0",
     "output_type": "error",
     "traceback": [
      "\u001b[1;31m---------------------------------------------------------------------------\u001b[0m",
      "\u001b[1;31mIndexError\u001b[0m                                Traceback (most recent call last)",
      "\u001b[1;32m<ipython-input-51-1e7adc48e715>\u001b[0m in \u001b[0;36m<module>\u001b[1;34m()\u001b[0m\n\u001b[1;32m----> 1\u001b[1;33m \u001b[0mChildPoisoningsby_Agedrop\u001b[0m\u001b[1;33m.\u001b[0m\u001b[0mdrop\u001b[0m\u001b[1;33m(\u001b[0m\u001b[0mChildPoisoningsby_Agedrop\u001b[0m\u001b[1;33m.\u001b[0m\u001b[0mindex\u001b[0m\u001b[1;33m[\u001b[0m\u001b[1;36m0\u001b[0m\u001b[1;33m]\u001b[0m\u001b[1;33m,\u001b[0m \u001b[0minplace\u001b[0m \u001b[1;33m=\u001b[0m \u001b[1;32mTrue\u001b[0m\u001b[1;33m)\u001b[0m\u001b[1;33m\u001b[0m\u001b[0m\n\u001b[0m",
      "\u001b[1;32m~\\Anaconda3\\lib\\site-packages\\pandas\\core\\indexes\\base.py\u001b[0m in \u001b[0;36m__getitem__\u001b[1;34m(self, key)\u001b[0m\n\u001b[0;32m   2067\u001b[0m \u001b[1;33m\u001b[0m\u001b[0m\n\u001b[0;32m   2068\u001b[0m         \u001b[1;32mif\u001b[0m \u001b[0mis_scalar\u001b[0m\u001b[1;33m(\u001b[0m\u001b[0mkey\u001b[0m\u001b[1;33m)\u001b[0m\u001b[1;33m:\u001b[0m\u001b[1;33m\u001b[0m\u001b[0m\n\u001b[1;32m-> 2069\u001b[1;33m             \u001b[1;32mreturn\u001b[0m \u001b[0mgetitem\u001b[0m\u001b[1;33m(\u001b[0m\u001b[0mkey\u001b[0m\u001b[1;33m)\u001b[0m\u001b[1;33m\u001b[0m\u001b[0m\n\u001b[0m\u001b[0;32m   2070\u001b[0m \u001b[1;33m\u001b[0m\u001b[0m\n\u001b[0;32m   2071\u001b[0m         \u001b[1;32mif\u001b[0m \u001b[0misinstance\u001b[0m\u001b[1;33m(\u001b[0m\u001b[0mkey\u001b[0m\u001b[1;33m,\u001b[0m \u001b[0mslice\u001b[0m\u001b[1;33m)\u001b[0m\u001b[1;33m:\u001b[0m\u001b[1;33m\u001b[0m\u001b[0m\n",
      "\u001b[1;31mIndexError\u001b[0m: index 0 is out of bounds for axis 0 with size 0"
     ]
    }
   ],
   "source": [
    "#ChildPoisoningsby_Agedrop.drop(ChildPoisoningsby_Agedrop.index[0], inplace = True)"
   ]
  },
  {
   "cell_type": "code",
   "execution_count": null,
   "metadata": {},
   "outputs": [],
   "source": [
    "# Changed Row 1 to header ChildPoisoningsby_Age\n",
    "#FinalAgedf = ChildPoisoningsby_Agedrop.rename(columns=ChildPoisoningsby_Agedrop.iloc[0]).drop(ChildPoisoningsby_Agedrop.index[0])"
   ]
  },
  {
   "cell_type": "code",
   "execution_count": null,
   "metadata": {},
   "outputs": [],
   "source": [
    "#FinalAgedf.drop(FinalAgedf.index[1], inplace = True)"
   ]
  },
  {
   "cell_type": "code",
   "execution_count": null,
   "metadata": {},
   "outputs": [],
   "source": [
    "#FinalYeardf"
   ]
  },
  {
   "cell_type": "code",
   "execution_count": null,
   "metadata": {},
   "outputs": [],
   "source": [
    "#FinalYeardf = pd.read_excel('problem.xlsx', sheetname='WEEKLY NUMBERS', header=[0, 1])\n",
    "#FinalYeardf.columns = FinalYeardf.columns.map('Year'.iloc,'Statistics'.iloc)\n",
    "#header = FinalYeardf.iloc[1]\n",
    "#FinalYeardf = FinalYeardf[0:]\n",
    "#FinalYeardf.rename(columns = header)\n",
    "\n",
    "#FinalYeardf1 = pd.FinalYeardf({'Year':[2001,2001,2002,2002,2003,2003,2004,2004,2005,2006,2006,2007,2007,2008,2008,2009,2009,2010,2010,2011,2011,2012,2012,2013,2013,2014,2014,2015,2015,Total for selection,Total for selection], \n",
    "#                             'Statistics:':[Count,Rate,Count,Rate,Count,Rate,Count,Rate,Count,Rate,Count,Rate,Count,Rate,Count,Rate,Count,Rate,Count,Rate,Count,Rate,Count,Rate,Count,Rate,Count,Rate,Count,Rate,Count,Rate]\n",
    "#                              .set_index(['Year','Year'])\n"
   ]
  },
  {
   "cell_type": "code",
   "execution_count": null,
   "metadata": {},
   "outputs": [],
   "source": [
    "#FinalYeardf"
   ]
  },
  {
   "cell_type": "code",
   "execution_count": null,
   "metadata": {},
   "outputs": [],
   "source": [
    "#FinalAgedf"
   ]
  },
  {
   "cell_type": "code",
   "execution_count": null,
   "metadata": {},
   "outputs": [],
   "source": [
    "#FinalYeardf = pd.DataFrame(['Count', 'Rate'])\n",
    "\n",
    "#data = FinalYeardf.columns\n",
    "#for header in data:\n",
    " #   FinalYeardf = pd.FinalYeardf({'Count'})\n",
    "  #  data.plot(x='Count',y=header)\n",
    "   # FinalYeardf.plot(x='Rate', y='Year', kind='line')"
   ]
  },
  {
   "cell_type": "code",
   "execution_count": null,
   "metadata": {},
   "outputs": [],
   "source": []
  },
  {
   "cell_type": "code",
   "execution_count": null,
   "metadata": {},
   "outputs": [],
   "source": [
    "#FinalAgedf.drop(FinalAgedf.index[1], inplace = True)"
   ]
  },
  {
   "cell_type": "code",
   "execution_count": null,
   "metadata": {},
   "outputs": [],
   "source": []
  },
  {
   "cell_type": "code",
   "execution_count": null,
   "metadata": {},
   "outputs": [],
   "source": [
    "#FinalYeardf.reset_index(inplace=True, drop=True)"
   ]
  },
  {
   "cell_type": "code",
   "execution_count": null,
   "metadata": {},
   "outputs": [],
   "source": [
    "#FinalYeardf"
   ]
  },
  {
   "cell_type": "code",
   "execution_count": null,
   "metadata": {},
   "outputs": [],
   "source": [
    "#FinalAgedf"
   ]
  },
  {
   "cell_type": "code",
   "execution_count": null,
   "metadata": {},
   "outputs": [],
   "source": [
    "# FinalYeardf.rename(columns={'Total for selection': 'Total Count', 'Total for selection': 'Total Rate'}, inplace=True)"
   ]
  },
  {
   "cell_type": "code",
   "execution_count": null,
   "metadata": {},
   "outputs": [],
   "source": [
    "# Changed Row 1 to header ChildPoisoningsby_Age\n",
    "FinalAgedf = ChildPoisoningsby_Agedrop.rename(columns=ChildPoisoningsby_Agedrop.iloc[0]).drop(ChildPoisoningsby_Agedrop.index[0])"
   ]
  },
  {
   "cell_type": "code",
   "execution_count": null,
   "metadata": {},
   "outputs": [],
   "source": [
    "FinalAgedf.drop(FinalAgedf.index[1], inplace = True)"
   ]
  },
  {
   "cell_type": "code",
   "execution_count": null,
   "metadata": {},
   "outputs": [],
   "source": [
    "FinalAgedf.drop(FinalAgedf.index[0], axis=1)"
   ]
  },
  {
   "cell_type": "code",
   "execution_count": null,
   "metadata": {},
   "outputs": [],
   "source": [
    "FinalAgedf"
   ]
  },
  {
   "cell_type": "code",
   "execution_count": null,
   "metadata": {},
   "outputs": [],
   "source": [
    "# Merge our two data frames together\n",
    "# combined_ChildPoisoning_data = pd.merge(ChildPoisoningsby_Age, ChildPoisoningsby_Year, on=\"Mechanism\")\n",
    "# combined_ChildPoisoning_data.head()"
   ]
  },
  {
   "cell_type": "code",
   "execution_count": null,
   "metadata": {},
   "outputs": [],
   "source": []
  },
  {
   "cell_type": "code",
   "execution_count": null,
   "metadata": {},
   "outputs": [],
   "source": []
  },
  {
   "cell_type": "code",
   "execution_count": null,
   "metadata": {},
   "outputs": [],
   "source": [
    "# Delete the duplicate 'Country Code' column and rename the first one back to 'Country Code'\n",
    "# del combined_unemployed_data['Country Code_y']\n",
    "# combined_unemployed_data = combined_unemployed_data.rename(columns={\"Country Code_x\":\"Country Code\"})\n",
    "# combined_unemployed_data.head()"
   ]
  },
  {
   "cell_type": "code",
   "execution_count": null,
   "metadata": {},
   "outputs": [],
   "source": [
    "# Set the 'Country Code' to be our index for easy referencing of rows\n",
    "combined_unemployed_data = combined_unemployed_data.set_index(\"Country Code\")"
   ]
  },
  {
   "cell_type": "code",
   "execution_count": null,
   "metadata": {},
   "outputs": [],
   "source": [
    "# Collect the mean unemployment rates for the world\n",
    "average_unemployment = combined_unemployed_data.mean()\n",
    "\n",
    "# Collect the years where data was collected\n",
    "years = average_unemployment.keys()"
   ]
  },
  {
   "cell_type": "code",
   "execution_count": null,
   "metadata": {},
   "outputs": [],
   "source": [
    "# Plot the world average as a line chart\n",
    "world_avg, = plt.plot(years, average_unemployment, color=\"blue\", label=\"World Average\" )\n",
    "\n",
    "# Plot the unemployment values for a single country\n",
    "country_one, = plt.plot(years, combined_unemployed_data.loc['USA',[\"2010\",\"2011\",\"2012\",\"2013\",\"2014\"]], \n",
    "                        color=\"green\",label=combined_unemployed_data.loc['USA',\"Country Name\"])\n",
    "\n",
    "# Create a legend for our chart\n",
    "plt.legend(handles=[world_avg, country_one], loc=\"best\")\n",
    "\n",
    "# Show the chart\n",
    "plt.show()"
   ]
  },
  {
   "cell_type": "code",
   "execution_count": null,
   "metadata": {},
   "outputs": [],
   "source": [
    "average_unemployment.plot(label=\"World Average\")\n",
    "combined_unemployed_data.loc['USA', \"2010\":\"2014\"].plot(label=\"United States\")\n",
    "plt.legend()\n",
    "plt.show()"
   ]
  },
  {
   "cell_type": "code",
   "execution_count": null,
   "metadata": {},
   "outputs": [],
   "source": [
    "%matplotlib notebook"
   ]
  },
  {
   "cell_type": "code",
   "execution_count": null,
   "metadata": {},
   "outputs": [],
   "source": [
    "# Import Dependencies\n",
    "import matplotlib.pyplot as plt\n",
    "import pandas as pd"
   ]
  },
  {
   "cell_type": "code",
   "execution_count": null,
   "metadata": {},
   "outputs": [],
   "source": [
    "# Import our data into pandas from CSV\n",
    "used_string = '../Resources/used_cars.csv'\n",
    "used_car_df = pd.read_csv(used_string)\n",
    "\n",
    "used_car_df"
   ]
  },
  {
   "cell_type": "code",
   "execution_count": null,
   "metadata": {},
   "outputs": [],
   "source": [
    "# Create a group based on the values in the 'maker' column\n",
    "maker_group = used_car_df.groupby('maker')\n",
    "\n",
    "# Count how many times each maker appears in our group\n",
    "count_makers = maker_group['maker'].count()\n",
    "\n",
    "count_makers"
   ]
  },
  {
   "cell_type": "code",
   "execution_count": null,
   "metadata": {},
   "outputs": [],
   "source": [
    "# Create a bar chart based off of the group series from before\n",
    "count_chart = count_makers.plot(kind='bar')\n",
    "\n",
    "# Set the xlabel and ylabel using class methods\n",
    "count_chart.set_xlabel(\"Car Manufacturer\")\n",
    "count_chart.set_ylabel(\"Number of Cars\")\n",
    "\n",
    "\n",
    "plt.show()\n",
    "plt.tight_layout()"
   ]
  }
 ],
 "metadata": {
  "kernelspec": {
   "display_name": "Python 3",
   "language": "python",
   "name": "python3"
  },
  "language_info": {
   "codemirror_mode": {
    "name": "ipython",
    "version": 3
   },
   "file_extension": ".py",
   "mimetype": "text/x-python",
   "name": "python",
   "nbconvert_exporter": "python",
   "pygments_lexer": "ipython3",
   "version": "3.6.5"
  }
 },
 "nbformat": 4,
 "nbformat_minor": 2
}
